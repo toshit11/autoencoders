{
  "nbformat": 4,
  "nbformat_minor": 0,
  "metadata": {
    "colab": {
      "name": "sparks.ipynb",
      "provenance": [],
      "authorship_tag": "ABX9TyNJxtWXxpmZ9okEtytfBbZ4",
      "include_colab_link": true
    },
    "kernelspec": {
      "name": "python3",
      "display_name": "Python 3"
    }
  },
  "cells": [
    {
      "cell_type": "markdown",
      "metadata": {
        "id": "view-in-github",
        "colab_type": "text"
      },
      "source": [
        "<a href=\"https://colab.research.google.com/github/toshit11/autoencoders/blob/master/sparks.ipynb\" target=\"_parent\"><img src=\"https://colab.research.google.com/assets/colab-badge.svg\" alt=\"Open In Colab\"/></a>"
      ]
    },
    {
      "cell_type": "code",
      "metadata": {
        "id": "Zv5gEKYJ0ilm"
      },
      "source": [
        "import pandas as pd\n",
        "import matplotlib.pyplot as plt\n",
        "import matplotlib.patches as mpatches\n",
        "import seaborn as sns\n",
        "import numpy as np\n",
        "plt.style.use('fivethirtyeight')\n",
        "import plotly.offline as py\n",
        "py.init_notebook_mode(connected=True)\n",
        "import plotly.graph_objs as go\n",
        "import plotly.tools as tls\n",
        "from mpl_toolkits.basemap import Basemap\n",
        "import folium\n",
        "import folium.plugins\n",
        "from matplotlib import animation,rc\n",
        "import io\n",
        "import base64\n",
        "from IPython.display import HTML, display\n",
        "import warnings\n",
        "warnings.filterwarnings('ignore')\n",
        "from scipy.misc import imread\n",
        "import codecs\n",
        "from subprocess import check_output"
      ],
      "execution_count": null,
      "outputs": []
    },
    {
      "cell_type": "code",
      "metadata": {
        "id": "XtHyD7S80z1W"
      },
      "source": [
        "terror=pd.read_csv('../input/globalterrorismdb_0617dist.csv',encoding='ISO-8859-1')\n",
        "terror.rename(columns={'iyear':'Year','imonth':'Month','iday':'Day','country_txt':'Country','region_txt':'Region','attacktype1_txt':'AttackType','target1':'Target','nkill':'Killed','nwound':'Wounded','summary':'Summary','gname':'Group','targtype1_txt':'Target_type','weaptype1_txt':'Weapon_type','motive':'Motive'},inplace=True)\n",
        "terror=terror[['Year','Month','Day','Country','Region','city','latitude','longitude','AttackType','Killed','Wounded','Target','Summary','Group','Target_type','Weapon_type','Motive']]\n",
        "terror['casualities']=terror['Killed']+terror['Wounded']\n"
      ],
      "execution_count": null,
      "outputs": []
    },
    {
      "cell_type": "code",
      "metadata": {
        "id": "XZECNsG40z-e"
      },
      "source": [
        "plt.subplots(figsize=(15,6))\n",
        "sns.countplot('Year',data=terror,palette='RdYlGn_r',edgecolor=sns.color_palette('dark',7))\n",
        "plt.xticks(rotation=90)\n",
        "plt.title('Number Of Terrorist Activities Each Year')"
      ],
      "execution_count": null,
      "outputs": []
    },
    {
      "cell_type": "code",
      "metadata": {
        "id": "IPF0emA200Oj"
      },
      "source": [
        "plt.subplots(figsize=(15,6))\n",
        "sns.countplot('AttackType',data=terror,palette='inferno',order=terror['AttackType'].value_counts().index)\n",
        "plt.xticks(rotation=90)\n",
        "plt.title('Attacking Methods by Terrorists')\n",
        "plt.show()"
      ],
      "execution_count": null,
      "outputs": []
    },
    {
      "cell_type": "code",
      "metadata": {
        "id": "9H0YCBcq00Xi"
      },
      "source": [
        "plt.subplots(figsize=(15,6))\n",
        "sns.countplot(terror['Target_type'],palette='inferno',order=terror['Target_type'].value_counts().index)\n",
        "plt.xticks(rotation=90)\n",
        "plt.title('Main Targets')\n",
        "plt.show()"
      ],
      "execution_count": null,
      "outputs": []
    },
    {
      "cell_type": "code",
      "metadata": {
        "id": "B6p_X7ne00gB"
      },
      "source": [
        "terror_fol=terror.copy()\n",
        "terror_fol.dropna(subset=['latitude','longitude'],inplace=True)\n",
        "location_fol=terror_fol[['latitude','longitude']][:5000]\n",
        "country_fol=terror_fol['Country'][:5000]\n",
        "city_fol=terror_fol['city'][:5000]\n",
        "killed_fol=terror_fol['Killed'][:5000]\n",
        "wound_fol=terror_fol['Wounded'][:5000]\n",
        "def color_point(x):\n",
        "    if x>=30:\n",
        "        color='red'\n",
        "    elif ((x>0 and x<30)):\n",
        "        color='blue'\n",
        "    else:\n",
        "        color='green'\n",
        "    return color   \n",
        "def point_size(x):\n",
        "    if (x>30 and x<100):\n",
        "        size=2\n",
        "    elif (x>=100 and x<500):\n",
        "        size=8\n",
        "    elif x>=500:\n",
        "        size=16\n",
        "    else:\n",
        "        size=0.5\n",
        "    return size   \n",
        "map2 = folium.Map(location=[30,0],tiles='CartoDB dark_matter',zoom_start=2)\n",
        "for point in location_fol.index:\n",
        "    info='<b>Country: </b>'+str(country_fol[point])+'<br><b>City: </b>: '+str(city_fol[point])+'<br><b>Killed </b>: '+str(killed_fol[point])+'<br><b>Wounded</b> : '+str(wound_fol[point])\n",
        "    iframe = folium.IFrame(html=info, width=200, height=200)\n",
        "    folium.CircleMarker(list(location_fol.loc[point].values),popup=folium.Popup(iframe),radius=point_size(killed_fol[point]),color=color_point(killed_fol[point])).add_to(map2)\n",
        "map2"
      ],
      "execution_count": null,
      "outputs": []
    },
    {
      "cell_type": "code",
      "metadata": {
        "id": "5y5eob-400qm"
      },
      "source": [
        "plt.subplots(figsize=(15,6))\n",
        "sns.countplot('Region',data=terror,palette='RdYlGn',edgecolor=sns.color_palette('dark',7),order=terror['Region'].value_counts().index)\n",
        "plt.xticks(rotation=90)\n",
        "plt.title('Number Of Terrorist Activities By Region')\n",
        "plt.show("
      ],
      "execution_count": null,
      "outputs": []
    },
    {
      "cell_type": "code",
      "metadata": {
        "id": "blyIEgrO00zj"
      },
      "source": [
        "terror_region=pd.crosstab(terror.Year,terror.Region)\n",
        "terror_region.plot(color=sns.color_palette('Set2',12))\n",
        "fig=plt.gcf()\n",
        "fig.set_size_inches(18,6)\n",
        "plt.show()"
      ],
      "execution_count": null,
      "outputs": []
    },
    {
      "cell_type": "code",
      "metadata": {
        "id": "lhGiLmTK01KT"
      },
      "source": [
        "pd.crosstab(terror.Region,terror.AttackType).plot.barh(stacked=True,width=1,color=sns.color_palette('RdYlGn',9))\n",
        "fig=plt.gcf()\n",
        "fig.set_size_inches(12,8)\n",
        "plt.show()"
      ],
      "execution_count": null,
      "outputs": []
    },
    {
      "cell_type": "code",
      "metadata": {
        "id": "ljbMSKTk01SN"
      },
      "source": [
        ""
      ],
      "execution_count": null,
      "outputs": []
    },
    {
      "cell_type": "code",
      "metadata": {
        "id": "0yU8m08m01aF"
      },
      "source": [
        "sns.barplot(terror['Group'].value_counts()[1:15].values,terror['Group'].value_counts()[1:15].index,palette=('inferno'))\n",
        "plt.xticks(rotation=90)\n",
        "fig=plt.gcf()\n",
        "fig.set_size_inches(10,8)\n",
        "plt.title('Terrorist Groups with Highest Terror Attacks')\n",
        "plt.show()"
      ],
      "execution_count": null,
      "outputs": []
    },
    {
      "cell_type": "code",
      "metadata": {
        "id": "Q-VP1jZBS-og"
      },
      "source": [
        "top_groups10=terror[terror['Group'].isin(terror['Group'].value_counts()[1:11].index)]\n",
        "pd.crosstab(top_groups10.Year,top_groups10.Group).plot(color=sns.color_palette('Paired',10))\n",
        "fig=plt.gcf()\n",
        "fig.set_size_inches(18,6)\n",
        "plt.show()"
      ],
      "execution_count": null,
      "outputs": []
    },
    {
      "cell_type": "code",
      "metadata": {
        "id": "ciGyFxZcS-5L"
      },
      "source": [
        "f,ax=plt.subplots(1,2,figsize=(25,12))\n",
        "ind_groups=terror_india['Group'].value_counts()[1:11].index\n",
        "ind_groups=terror_india[terror_india['Group'].isin(ind_groups)]\n",
        "sns.countplot(y='Group',data=ind_groups,ax=ax[0])\n",
        "ax[0].set_title('Top Terrorist Groups')\n",
        "sns.countplot(y='AttackType',data=terror_india,ax=ax[1])\n",
        "ax[1].set_title('Favorite Attack Types')\n",
        "plt.subplots_adjust(hspace=0.3,wspace=0.6)\n",
        "ax[0].tick_params(labelsize=15)\n",
        "ax[1].tick_params(labelsize=15)\n",
        "plt.show()"
      ],
      "execution_count": null,
      "outputs": []
    },
    {
      "cell_type": "code",
      "metadata": {
        "id": "rOR52TrCS-ds"
      },
      "source": [
        "fig = plt.figure(figsize = (10,6))\n",
        "def animate(Year):\n",
        "    ax = plt.axes()\n",
        "    ax.clear()\n",
        "    ax.set_title('Animation Of Terrorist Activities'+'\\n'+'Year:' +str(Year))\n",
        "    m6 = Basemap(projection='mill',llcrnrlat=-80,urcrnrlat=80, llcrnrlon=-180,urcrnrlon=180,lat_ts=20,resolution='c')\n",
        "    lat6=list(terror[terror['Year']==Year].latitude)\n",
        "    long6=list(terror[terror['Year']==Year].longitude)\n",
        "    x6,y6=m6(long6,lat6)\n",
        "    m6.scatter(x6, y6,s=[(kill+wound)*0.1 for kill,wound in zip(terror[terror['Year']==Year].Killed,terror[terror['Year']==Year].Wounded)],color = 'r')\n",
        "    m6.drawcoastlines()\n",
        "    m6.drawcountries()\n",
        "    m6.fillcontinents(zorder = 1,alpha=0.4)\n",
        "    m6.drawmapboundary()\n",
        "ani = animation.FuncAnimation(fig,animate,list(terror.Year.unique()), interval = 1500)    \n",
        "ani.save('animation.gif', writer='imagemagick', fps=1)\n",
        "plt.close(1)\n",
        "filename = 'animation.gif'\n",
        "video = io.open(filename, 'r+b').read()\n",
        "encoded = base64.b64encode(video)\n",
        "HTML(data='''<img src=\"data:image/gif;base64,{0}\" type=\"gif\" />'''.format(encoded.decode('ascii')))"
      ],
      "execution_count": null,
      "outputs": []
    }
  ]
}